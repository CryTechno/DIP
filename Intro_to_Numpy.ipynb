{
  "cells": [
    {
      "cell_type": "markdown",
      "metadata": {
        "id": "view-in-github",
        "colab_type": "text"
      },
      "source": [
        "<a href=\"https://colab.research.google.com/github/CryTechno/DIP/blob/main/Intro_to_Numpy.ipynb\" target=\"_parent\"><img src=\"https://colab.research.google.com/assets/colab-badge.svg\" alt=\"Open In Colab\"/></a>"
      ]
    },
    {
      "cell_type": "markdown",
      "metadata": {
        "id": "RuGQUgNOFtiQ"
      },
      "source": [
        "# Початок роботи з бібліотекою Numpy"
      ]
    },
    {
      "cell_type": "markdown",
      "source": [
        "ВИКОНАВ СТУДЕНТ РОГОЖНІКОВ РОМАН АНДРІЙОВИЧ ПБ-21МП"
      ],
      "metadata": {
        "id": "Mauwd-ZpGGxu"
      }
    },
    {
      "cell_type": "markdown",
      "metadata": {
        "id": "ccSb5TtDFtiR"
      },
      "source": [
        "У даній лабораторній роботі розглянуто наступний функціонал бібліотеки Numpy:\n",
        "1. Створення масиву.\n",
        "2. Відображення масивів .\n",
        "3. Базові операції з масивами."
      ]
    },
    {
      "cell_type": "markdown",
      "metadata": {
        "id": "OSMcULroFtiS"
      },
      "source": [
        "## Імпорт бібліотек та пакетів"
      ]
    },
    {
      "cell_type": "markdown",
      "metadata": {
        "id": "P_qan8WbFtiS"
      },
      "source": [
        "Завантажуємо бібліотеку numpy та використаємо скорочення np."
      ]
    },
    {
      "cell_type": "code",
      "execution_count": null,
      "metadata": {
        "id": "HrQ3qkG7FtiS"
      },
      "outputs": [],
      "source": [
        "import numpy as np"
      ]
    },
    {
      "cell_type": "markdown",
      "metadata": {
        "id": "jVRG1JVGFtii"
      },
      "source": [
        "# Завдання\n",
        "## 1. Створити двомірний нульовий масив розміром 11х11 та заповнити його діагоналі одиницями.\n",
        "\n",
        "1.1. Задати розмір масиву"
      ]
    },
    {
      "cell_type": "code",
      "execution_count": null,
      "metadata": {
        "id": "lBe_AqSiFtii"
      },
      "outputs": [],
      "source": [
        "size = 11"
      ]
    },
    {
      "cell_type": "markdown",
      "metadata": {
        "id": "4nfqf7aRFtii"
      },
      "source": [
        "1.2. Створити нульовий масив заданого розміру"
      ]
    },
    {
      "cell_type": "code",
      "execution_count": null,
      "metadata": {
        "id": "Gk9Gyq_WFtii"
      },
      "outputs": [],
      "source": [
        "arr = np.zeros((size,size))"
      ]
    },
    {
      "cell_type": "markdown",
      "metadata": {
        "id": "aI1w31F1Ftii"
      },
      "source": [
        "1.3 Надрукувати створений масив"
      ]
    },
    {
      "cell_type": "code",
      "execution_count": null,
      "metadata": {
        "id": "04Z2TD9fFtii",
        "outputId": "039eab92-fd5a-458a-8644-2c637cf556ac"
      },
      "outputs": [
        {
          "name": "stdout",
          "output_type": "stream",
          "text": [
            "[[0. 0. 0. 0. 0. 0. 0. 0. 0. 0. 0.]\n",
            " [0. 0. 0. 0. 0. 0. 0. 0. 0. 0. 0.]\n",
            " [0. 0. 0. 0. 0. 0. 0. 0. 0. 0. 0.]\n",
            " [0. 0. 0. 0. 0. 0. 0. 0. 0. 0. 0.]\n",
            " [0. 0. 0. 0. 0. 0. 0. 0. 0. 0. 0.]\n",
            " [0. 0. 0. 0. 0. 0. 0. 0. 0. 0. 0.]\n",
            " [0. 0. 0. 0. 0. 0. 0. 0. 0. 0. 0.]\n",
            " [0. 0. 0. 0. 0. 0. 0. 0. 0. 0. 0.]\n",
            " [0. 0. 0. 0. 0. 0. 0. 0. 0. 0. 0.]\n",
            " [0. 0. 0. 0. 0. 0. 0. 0. 0. 0. 0.]\n",
            " [0. 0. 0. 0. 0. 0. 0. 0. 0. 0. 0.]]\n"
          ]
        }
      ],
      "source": [
        "print(arr)"
      ]
    },
    {
      "cell_type": "markdown",
      "metadata": {
        "id": "fyc5fjGuFtii"
      },
      "source": [
        "1.4 Змінити діагоналі за допомогою двох циклів"
      ]
    },
    {
      "cell_type": "code",
      "execution_count": null,
      "metadata": {
        "id": "s6NJ8tCzFtii"
      },
      "outputs": [],
      "source": [
        "for i in range(size):\n",
        "\tfor j in range(size):\n",
        "\t\tif (i==j):\n",
        "\t\t\tarr[i][j] = 1\n",
        "\t\telif ((i+j)==(size-1)):\n",
        "\t\t\tarr[i][j] = 1"
      ]
    },
    {
      "cell_type": "markdown",
      "metadata": {
        "id": "7WvlgA1vFtij"
      },
      "source": [
        "1.5 Вивести створений масив"
      ]
    },
    {
      "cell_type": "code",
      "execution_count": null,
      "metadata": {
        "id": "PV38b6oSFtij",
        "outputId": "2f601479-ae36-4a3f-ed88-d9b408b7b30e"
      },
      "outputs": [
        {
          "name": "stdout",
          "output_type": "stream",
          "text": [
            "[[1. 0. 0. 0. 0. 0. 0. 0. 0. 0. 1.]\n",
            " [0. 1. 0. 0. 0. 0. 0. 0. 0. 1. 0.]\n",
            " [0. 0. 1. 0. 0. 0. 0. 0. 1. 0. 0.]\n",
            " [0. 0. 0. 1. 0. 0. 0. 1. 0. 0. 0.]\n",
            " [0. 0. 0. 0. 1. 0. 1. 0. 0. 0. 0.]\n",
            " [0. 0. 0. 0. 0. 1. 0. 0. 0. 0. 0.]\n",
            " [0. 0. 0. 0. 1. 0. 1. 0. 0. 0. 0.]\n",
            " [0. 0. 0. 1. 0. 0. 0. 1. 0. 0. 0.]\n",
            " [0. 0. 1. 0. 0. 0. 0. 0. 1. 0. 0.]\n",
            " [0. 1. 0. 0. 0. 0. 0. 0. 0. 1. 0.]\n",
            " [1. 0. 0. 0. 0. 0. 0. 0. 0. 0. 1.]]\n"
          ]
        }
      ],
      "source": [
        "print(arr)"
      ]
    },
    {
      "cell_type": "markdown",
      "metadata": {
        "tags": [],
        "id": "8nyzK15uFtij"
      },
      "source": [
        "## 2. Засобами NumPy створити вертикальні та горизонтальні зображення градієнту в обидва боки (поступове збільшення яскравості на зображенні).\n",
        "\n",
        "Приклад зображення градієнту\n",
        "<img src=\"./assignments/horizontal_grad.jpg\" height=\"200\" width=\"200\">"
      ]
    },
    {
      "cell_type": "markdown",
      "metadata": {
        "tags": [],
        "id": "xPqd_jw3Ftij"
      },
      "source": [
        "### Горизонтальний градієнт"
      ]
    },
    {
      "cell_type": "markdown",
      "metadata": {
        "id": "Wxi3OQZFFtij"
      },
      "source": [
        "2.1 Створити нульовий масив розміром 255х255"
      ]
    },
    {
      "cell_type": "code",
      "execution_count": 1,
      "metadata": {
        "colab": {
          "base_uri": "https://localhost:8080/",
          "height": 165
        },
        "id": "I2R07dUdFtij",
        "outputId": "3f1c4764-f9db-479e-e19b-6717c3ceb70a"
      },
      "outputs": [
        {
          "output_type": "error",
          "ename": "NameError",
          "evalue": "ignored",
          "traceback": [
            "\u001b[0;31m---------------------------------------------------------------------------\u001b[0m",
            "\u001b[0;31mNameError\u001b[0m                                 Traceback (most recent call last)",
            "\u001b[0;32m<ipython-input-1-7250c6b19e94>\u001b[0m in \u001b[0;36m<module>\u001b[0;34m\u001b[0m\n\u001b[0;32m----> 1\u001b[0;31m \u001b[0mhorizontal_gradient1\u001b[0m \u001b[0;34m=\u001b[0m \u001b[0mnp\u001b[0m\u001b[0;34m.\u001b[0m\u001b[0mzeros\u001b[0m\u001b[0;34m(\u001b[0m\u001b[0;34m(\u001b[0m\u001b[0;36m255\u001b[0m\u001b[0;34m,\u001b[0m\u001b[0;36m255\u001b[0m\u001b[0;34m)\u001b[0m\u001b[0;34m)\u001b[0m\u001b[0;34m\u001b[0m\u001b[0;34m\u001b[0m\u001b[0m\n\u001b[0m",
            "\u001b[0;31mNameError\u001b[0m: name 'np' is not defined"
          ]
        }
      ],
      "source": [
        "horizontal_gradient1 = np.zeros((255,255))"
      ]
    },
    {
      "cell_type": "markdown",
      "metadata": {
        "id": "iTcD7Ht-Ftij"
      },
      "source": [
        "2.2 Визначити розміри масиву"
      ]
    },
    {
      "cell_type": "code",
      "execution_count": null,
      "metadata": {
        "id": "nG9XGURTFtij"
      },
      "outputs": [],
      "source": [
        "w = horizontal_gradient1.shape[0]\n",
        "h = horizontal_gradient1.shape[1]\n",
        "print(w)\n"
      ]
    },
    {
      "cell_type": "markdown",
      "metadata": {
        "id": "qvdyJ5MCFtij"
      },
      "source": [
        "2.3 Поелементно змінити яскравості кожного пікселя"
      ]
    },
    {
      "cell_type": "code",
      "execution_count": null,
      "metadata": {
        "id": "vuBSAiNGFtik"
      },
      "outputs": [],
      "source": [
        "s = 0\n",
        "for i in range(w):  \n",
        "    s=s+1\n",
        "    for j in range(h):    \n",
        "        horizontal_gradient1[j][i] = s"
      ]
    },
    {
      "cell_type": "markdown",
      "metadata": {
        "id": "yOnprZUwFtik"
      },
      "source": [
        "2.4 Записати зображення засабами OpenCV"
      ]
    },
    {
      "cell_type": "code",
      "execution_count": null,
      "metadata": {
        "id": "G7dhM7PZFtik"
      },
      "outputs": [],
      "source": [
        "import cv2\n",
        "cv2.imwrite('horizontal_grad1.jpg', horizontal_gradient1)"
      ]
    },
    {
      "cell_type": "markdown",
      "metadata": {
        "id": "nQDrrzhOFtil"
      },
      "source": [
        "2.5 Аналогічно створити горизонтальний градієнт в інший бік"
      ]
    },
    {
      "cell_type": "code",
      "execution_count": null,
      "metadata": {
        "id": "tFFvNN5YFtil"
      },
      "outputs": [],
      "source": [
        "horizontal_gradient2 = np.zeros((255,255))\n",
        "\n",
        "w = horizontal_gradient2.shape[1]\n",
        "h = horizontal_gradient2.shape[0]\n",
        "s = 0\n",
        "for i in range(w):\n",
        "    s=s+1\n",
        "    for j in range(h):\n",
        "        horizontal_gradient2[j][-i] = s \n",
        "        \n",
        "cv2.imwrite('horizontal_grad2.jpg', horizontal_gradient2)"
      ]
    },
    {
      "cell_type": "markdown",
      "metadata": {
        "tags": [],
        "id": "jWvXuuPVFtil"
      },
      "source": [
        "### Вертикальний градієнт"
      ]
    },
    {
      "cell_type": "markdown",
      "metadata": {
        "id": "cdNI24xLFtil"
      },
      "source": [
        "2.6 Створити нульовий масив розміром 255х255"
      ]
    },
    {
      "cell_type": "code",
      "execution_count": null,
      "metadata": {
        "id": "rwv1JsVbFtil"
      },
      "outputs": [],
      "source": [
        "vertical_gradient1 = np.zeros((255,255))"
      ]
    },
    {
      "cell_type": "markdown",
      "metadata": {
        "id": "fJgstoKTFtil"
      },
      "source": [
        "2.7 Визначити розміри масиву"
      ]
    },
    {
      "cell_type": "code",
      "execution_count": null,
      "metadata": {
        "id": "CwEIztPeFtim"
      },
      "outputs": [],
      "source": [
        "w = vertical_gradient1.shape[1]\n",
        "h = vertical_gradient1.shape[0]"
      ]
    },
    {
      "cell_type": "markdown",
      "metadata": {
        "id": "YMrGj0hiFtim"
      },
      "source": [
        "2.8 Поелементно змінити яскравості кожного пікселя"
      ]
    },
    {
      "cell_type": "code",
      "execution_count": null,
      "metadata": {
        "id": "Ycub5gu0Ftim"
      },
      "outputs": [],
      "source": [
        "s = 0\n",
        "for i in range(w):\n",
        "    s=s+1\n",
        "    for j in range(h):\n",
        "        vertical_gradient1[i][j] = s"
      ]
    },
    {
      "cell_type": "markdown",
      "metadata": {
        "id": "626mjH73Ftim"
      },
      "source": [
        "2.9 Записати зображення засабами OpenCV"
      ]
    },
    {
      "cell_type": "code",
      "execution_count": null,
      "metadata": {
        "id": "U008CxAGFtim",
        "outputId": "76e19448-db5f-42d7-b7e6-5a9625760ec9"
      },
      "outputs": [
        {
          "data": {
            "text/plain": [
              "True"
            ]
          },
          "execution_count": 64,
          "metadata": {},
          "output_type": "execute_result"
        }
      ],
      "source": [
        "cv2.imwrite('vertical_grad1.jpg', vertical_gradient1)"
      ]
    },
    {
      "cell_type": "markdown",
      "metadata": {
        "id": "ApaeRNXeFtim"
      },
      "source": [
        "2.10 Аналогічно створити горизонтальний градієнт в інший бік"
      ]
    },
    {
      "cell_type": "code",
      "execution_count": null,
      "metadata": {
        "id": "H5K0oOvxFtim",
        "outputId": "82aaae25-4999-4f9a-abab-3e7df0b0551d"
      },
      "outputs": [
        {
          "data": {
            "text/plain": [
              "True"
            ]
          },
          "execution_count": 74,
          "metadata": {},
          "output_type": "execute_result"
        }
      ],
      "source": [
        "vertical_gradient2 = np.zeros((255,255))\n",
        "w = vertical_gradient2.shape[1]\n",
        "h = vertical_gradient2.shape[0]\n",
        "s = 0\n",
        "for i in range(h):\n",
        "    s=s+1\n",
        "    for j in range(w):\n",
        "        vertical_gradient2[-i][j] = s\n",
        "        \n",
        "cv2.imwrite('vertical_grad2.jpg', vertical_gradient2)\n"
      ]
    },
    {
      "cell_type": "code",
      "execution_count": null,
      "metadata": {
        "id": "jK4p2JhoFtim"
      },
      "outputs": [],
      "source": []
    }
  ],
  "metadata": {
    "kernelspec": {
      "display_name": "Python 3 (ipykernel)",
      "language": "python",
      "name": "python3"
    },
    "language_info": {
      "codemirror_mode": {
        "name": "ipython",
        "version": 3
      },
      "file_extension": ".py",
      "mimetype": "text/x-python",
      "name": "python",
      "nbconvert_exporter": "python",
      "pygments_lexer": "ipython3",
      "version": "3.7.0"
    },
    "colab": {
      "provenance": [],
      "collapsed_sections": [
        "jWvXuuPVFtil"
      ],
      "include_colab_link": true
    }
  },
  "nbformat": 4,
  "nbformat_minor": 0
}